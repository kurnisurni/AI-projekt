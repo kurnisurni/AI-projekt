{
 "cells": [
  {
   "cell_type": "code",
   "execution_count": 1,
   "metadata": {},
   "outputs": [],
   "source": [
    "import pandas as pd\n",
    "import numpy as np\n",
    "import matplotlib.pyplot as plt\n",
    "\n",
    "from IPython.core.interactiveshell import InteractiveShell\n",
    "InteractiveShell.ast_node_interactivity = \"all\""
   ]
  },
  {
   "cell_type": "code",
   "execution_count": 2,
   "metadata": {},
   "outputs": [],
   "source": [
    "cluster = pd.read_csv(\"data.csv\")"
   ]
  },
  {
   "cell_type": "code",
   "execution_count": 3,
   "metadata": {},
   "outputs": [
    {
     "data": {
      "text/html": [
       "<div>\n",
       "<style scoped>\n",
       "    .dataframe tbody tr th:only-of-type {\n",
       "        vertical-align: middle;\n",
       "    }\n",
       "\n",
       "    .dataframe tbody tr th {\n",
       "        vertical-align: top;\n",
       "    }\n",
       "\n",
       "    .dataframe thead th {\n",
       "        text-align: right;\n",
       "    }\n",
       "</style>\n",
       "<table border=\"1\" class=\"dataframe\">\n",
       "  <thead>\n",
       "    <tr style=\"text-align: right;\">\n",
       "      <th></th>\n",
       "      <th>V1</th>\n",
       "      <th>V2</th>\n",
       "    </tr>\n",
       "  </thead>\n",
       "  <tbody>\n",
       "    <tr>\n",
       "      <th>0</th>\n",
       "      <td>2.072345</td>\n",
       "      <td>-3.241693</td>\n",
       "    </tr>\n",
       "    <tr>\n",
       "      <th>1</th>\n",
       "      <td>17.936710</td>\n",
       "      <td>15.784810</td>\n",
       "    </tr>\n",
       "    <tr>\n",
       "      <th>2</th>\n",
       "      <td>1.083576</td>\n",
       "      <td>7.319176</td>\n",
       "    </tr>\n",
       "    <tr>\n",
       "      <th>3</th>\n",
       "      <td>11.120670</td>\n",
       "      <td>14.406780</td>\n",
       "    </tr>\n",
       "    <tr>\n",
       "      <th>4</th>\n",
       "      <td>23.711550</td>\n",
       "      <td>2.557729</td>\n",
       "    </tr>\n",
       "  </tbody>\n",
       "</table>\n",
       "</div>"
      ],
      "text/plain": [
       "          V1         V2\n",
       "0   2.072345  -3.241693\n",
       "1  17.936710  15.784810\n",
       "2   1.083576   7.319176\n",
       "3  11.120670  14.406780\n",
       "4  23.711550   2.557729"
      ]
     },
     "execution_count": 3,
     "metadata": {},
     "output_type": "execute_result"
    }
   ],
   "source": [
    "cluster.head()"
   ]
  },
  {
   "cell_type": "code",
   "execution_count": 4,
   "metadata": {},
   "outputs": [],
   "source": [
    "## Visualize the data using scatter plot and determine k value"
   ]
  },
  {
   "cell_type": "code",
   "execution_count": 5,
   "metadata": {},
   "outputs": [
    {
     "data": {
      "text/plain": [
       "<matplotlib.collections.PathCollection at 0x25691404f08>"
      ]
     },
     "execution_count": 5,
     "metadata": {},
     "output_type": "execute_result"
    },
    {
     "data": {
      "image/png": "[encoded data removed]",
      "text/plain": [
       "<Figure size 432x288 with 1 Axes>"
      ]
     },
     "metadata": {
      "needs_background": "light"
     },
     "output_type": "display_data"
    }
   ],
   "source": [
    "plt.scatter(cluster['V1'], cluster['V2'], color = \"purple\")\n",
    "plt.show()"
   ]
  },
  {
   "cell_type": "code",
   "execution_count": 6,
   "metadata": {},
   "outputs": [],
   "source": [
    "## Multiple k-means models from sklearn library using k values 1-10"
   ]
  },
  {
   "cell_type": "code",
   "execution_count": 9,
   "metadata": {},
   "outputs": [],
   "source": [
    "from sklearn.cluster import KMeans\n",
    "from scipy.spatial.distance import cdist"
   ]
  },
  {
   "cell_type": "code",
   "execution_count": 10,
   "metadata": {},
   "outputs": [
    {
     "name": "stdout",
     "output_type": "stream",
     "text": [
      "WSS values for 1 = [[46.5474565 ]\n",
      " [23.75349018]\n",
      " [42.47386662]\n",
      " ...\n",
      " [41.01383527]\n",
      " [61.19175739]\n",
      " [53.55380939]]\n",
      "WSS values for 2 = [[67.7678564  48.54343985]\n",
      " [57.69168672 24.37922551]\n",
      " [70.59281083 40.47411554]\n",
      " ...\n",
      " [ 5.04149608 61.6361833 ]\n",
      " [21.33973153 81.43602485]\n",
      " [15.47252742 73.78115688]]\n",
      "WSS values for 3 = [[73.8545108  68.19954759 15.7742349 ]\n",
      " [49.47082274 58.08388842  9.87655463]\n",
      " [65.67785038 71.01508094  9.04449993]\n",
      " ...\n",
      " [74.13522418  5.47219431 58.92797927]\n",
      " [87.65757848 20.90805072 84.42182021]\n",
      " [87.98558269 15.5959933  65.83390192]]\n",
      "WSS values for 4 = [[78.99970125 68.19954759 15.68159075 68.69472483]\n",
      " [54.31132248 58.08388842  9.96854778 45.0145399 ]\n",
      " [71.3686191  71.01508094  8.95812487 59.90173243]\n",
      " ...\n",
      " [73.039363    5.47219431 58.96329997 76.08752331]\n",
      " [84.38619661 20.90805072 84.46519839 91.72452445]\n",
      " [87.19798808 15.5959933  65.85055404 89.47220961]]\n",
      "WSS values for 5 = [[59.866007   78.78351173 15.67385481 76.27307079 69.02098085]\n",
      " [49.68576936 54.08706505 10.02609241 66.21276073 45.36016756]\n",
      " [62.50110109 71.17984188  8.88855975 79.22568087 60.21100883]\n",
      " ...\n",
      " [ 3.95984321 72.6952175  59.06167425 13.46716661 76.42469101]\n",
      " [29.3161858  84.05349378 84.56280309 12.95299893 92.01405471]\n",
      " [17.56201389 86.85447647 65.94768643 17.82839858 89.81801161]]\n",
      "WSS values for 6 = [[21.63237524 75.87669866 73.36220677 14.11431255 72.55781675 63.72981099]\n",
      " [ 5.29718258 51.14509333 60.82126933 16.65063723 49.05129435 56.57405478]\n",
      " [17.94854271 68.42725789 75.2119536   3.67652295 63.61063035 67.65154879]\n",
      " ...\n",
      " [50.33873766 69.77341918 12.71761964 65.99519847 79.79099705  5.97106123]\n",
      " [75.50957471 81.67579775 17.35137968 91.66155272 94.83219471 26.64485526]\n",
      " [58.17182042 83.88910643 23.33967413 72.30836809 93.28565465  8.41802442]]\n",
      "WSS values for 7 = [[62.0840304  69.40441175 10.8719144  ... 83.70676749 22.30309112\n",
      "  74.01037638]\n",
      " [54.84969733 46.18170118 18.45688135 ... 59.26228435  2.55540213\n",
      "  61.85795922]\n",
      " [65.94338279 60.31799091  0.42127843 ... 75.54651315 16.90785588\n",
      "  76.04010278]\n",
      " ...\n",
      " [ 5.34158903 79.06960561 65.62415528 ... 80.32055091 53.3340892\n",
      "  12.65584971]\n",
      " [28.01308284 94.99632014 91.51522415 ... 91.47156974 78.24887184\n",
      "  16.19119839]\n",
      " [ 9.47210342 92.34853767 71.31866538 ... 94.46388391 61.48519388\n",
      "  22.4466222 ]]\n",
      "WSS values for 8 = [[68.95895013 79.09672331 22.51493365 ... 61.38543028 10.08279108\n",
      "  69.74181238]\n",
      " [44.19145987 69.11441073  2.25901965 ... 55.23704275 18.6174054\n",
      "  46.51777474]\n",
      " [61.80313763 82.11573949 16.78136602 ... 65.64630693  0.72109024\n",
      "  60.65276578]\n",
      " ...\n",
      " [63.8647922  16.32042476 53.96250777 ...  7.96771298 65.19731051\n",
      "  79.30187499]\n",
      " [77.38495201 10.32706998 78.82318882 ... 29.61090427 91.13001096\n",
      "  95.16294138]\n",
      " [77.80441211 19.24471219 62.1759554  ...  7.62576691 70.76689995\n",
      "  92.59609982]]\n",
      "WSS values for 9 = [[62.22872382 68.87612804 18.99182625 ... 79.52415038  8.91373598\n",
      "  25.66296267]\n",
      " [56.06408439 44.10689168  9.99288267 ... 69.34551585 20.69294171\n",
      "   9.90115737]\n",
      " [66.50042031 61.74605699 17.73911431 ... 82.4662753   2.16610907\n",
      "  16.38741098]\n",
      " ...\n",
      " [ 8.05053004 63.64441844 48.53431878 ... 16.72064099 66.38636091\n",
      "  63.31974153]\n",
      " [28.90833319 77.16100222 74.19997009 ...  9.77436777 92.41193878\n",
      "  87.69210966]\n",
      " [ 7.01439503 77.58668433 55.40526448 ... 19.95668407 71.59283072\n",
      "  71.93720767]]\n",
      "WSS values for 10 = [[ 8.71066682 79.23489999 75.06397382 ... 61.4601151  83.79997987\n",
      "  62.7788721 ]\n",
      " [20.58274894 69.25753623 51.9505974  ... 55.27635369 59.30548642\n",
      "  38.52631478]\n",
      " [ 2.21226136 82.2575694  65.86698401 ... 65.70912706 75.71736897\n",
      "  54.55424177]\n",
      " ...\n",
      " [66.13438627 16.46065104 83.72944727 ...  7.88768264 79.74220149\n",
      "  68.39506473]\n",
      " [92.16528664 10.20378505 98.70839167 ... 29.51281272 90.7193874\n",
      "  84.74388959]\n",
      " [71.32604981 19.31962347 97.20508316 ...  7.63589951 93.90662177\n",
      "  81.67969344]]\n"
     ]
    }
   ],
   "source": [
    "data = np.array(list(zip(cluster.V1, cluster.V2))).reshape(len(cluster.V1), 2)\n",
    "\n",
    "#Here we get the centres for the different k values(1-10).\n",
    "clusters =range(1,11)\n",
    "\n",
    "#Below is an empty list that will contain the centroids for each k value (1-10)\n",
    "wss_values =[] \n",
    "\n",
    "for i in clusters: \n",
    "    kmeans = KMeans(n_clusters = i, init= 'k-means++')\n",
    "    kmeans = kmeans.fit(data)\n",
    "    \n",
    "    wss_for_each_K = cdist(data, kmeans.cluster_centers_, 'euclidean')\n",
    "    \n",
    "#Within sum of squares for each value of k\n",
    "    \n",
    "    distance= sum(np.min( wss_for_each_K,axis=1))\n",
    "    \n",
    "    wss_values.append(distance)\n",
    "    print(\"WSS values for {}\". format(i), \"=\", wss_for_each_K)"
   ]
  },
  {
   "cell_type": "code",
   "execution_count": 11,
   "metadata": {},
   "outputs": [],
   "source": [
    "## Use the value in 3 above to determine the most suitable value for k using the elbow method"
   ]
  },
  {
   "cell_type": "code",
   "execution_count": 12,
   "metadata": {},
   "outputs": [
    {
     "data": {
      "text/plain": [
       "[<matplotlib.lines.Line2D at 0x25696f6bd48>]"
      ]
     },
     "execution_count": 12,
     "metadata": {},
     "output_type": "execute_result"
    },
    {
     "data": {
      "text/plain": [
       "Text(0.5, 1.0, 'The Elbow Graph showing the optimal K value')"
      ]
     },
     "execution_count": 12,
     "metadata": {},
     "output_type": "execute_result"
    },
    {
     "data": {
      "text/plain": [
       "Text(0.5, 0, 'K values')"
      ]
     },
     "execution_count": 12,
     "metadata": {},
     "output_type": "execute_result"
    },
    {
     "data": {
      "text/plain": [
       "Text(0, 0.5, 'WSS Values')"
      ]
     },
     "execution_count": 12,
     "metadata": {},
     "output_type": "execute_result"
    },
    {
     "data": {
      "image/png": "[encoded data removed]",
      "text/plain": [
       "<Figure size 432x288 with 1 Axes>"
      ]
     },
     "metadata": {
      "needs_background": "light"
     },
     "output_type": "display_data"
    }
   ],
   "source": [
    "plt.plot(clusters, wss_values, 'rx', ls ='solid' )\n",
    "plt.title(\"The Elbow Graph showing the optimal K value\")\n",
    "plt.xlabel(\"K values\")\n",
    "plt.ylabel(\"WSS Values\")\n",
    "plt.show()"
   ]
  },
  {
   "cell_type": "code",
   "execution_count": 14,
   "metadata": {},
   "outputs": [],
   "source": [
    "kmeans = KMeans(n_clusters = 3, init= 'k-means++', max_iter = 200)\n",
    "kmeans = kmeans.fit(data)\n",
    "centers= kmeans.cluster_centers_\n",
    "predictions =kmeans.predict(data)"
   ]
  },
  {
   "cell_type": "code",
   "execution_count": 15,
   "metadata": {},
   "outputs": [],
   "source": [
    "## Visualize using a scatter plot"
   ]
  },
  {
   "cell_type": "code",
   "execution_count": 18,
   "metadata": {},
   "outputs": [
    {
     "data": {
      "image/png": "[encoded data removed]",
      "text/plain": [
       "<Figure size 432x288 with 1 Axes>"
      ]
     },
     "metadata": {
      "needs_background": "light"
     },
     "output_type": "display_data"
    }
   ],
   "source": [
    "plt.scatter(data[:, 0], data[:, 1], c=predictions, s=50, cmap='plasma')\n",
    "plt.scatter(centers[:, 0], centers[:, 1], c='red', s=150, alpha=0.5, marker= '.');"
   ]
  },
  {
   "cell_type": "code",
   "execution_count": null,
   "metadata": {},
   "outputs": [],
   "source": []
  }
 ],
 "metadata": {
  "kernelspec": {
   "display_name": "Python 3",
   "language": "python",
   "name": "python3"
  },
  "language_info": {
   "codemirror_mode": {
    "name": "ipython",
    "version": 3
   },
   "file_extension": ".py",
   "mimetype": "text/x-python",
   "name": "python",
   "nbconvert_exporter": "python",
   "pygments_lexer": "ipython3",
   "version": "3.7.7"
  }
 },
 "nbformat": 4,
 "nbformat_minor": 4
}
